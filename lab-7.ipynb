{
 "cells": [
  {
   "cell_type": "code",
   "execution_count": 14,
   "metadata": {},
   "outputs": [],
   "source": [
    "outlook = [0, 0, 1, 0, 1, 1, 0]\n",
    "Temp = [0, 1, 1, 1, 0, 0, 0 ]\n",
    "Routine = [0, 1, 0, 0, 0, 1, 1]\n",
    "Coat = [0, 0, 0, 0, 1, 1, 1]\n",
    "a=0\n",
    "b=0\n",
    "c=0\n",
    "d=0\n",
    "e=0\n",
    "f=0\n",
    "\n",
    "for i in range(7):\n",
    "    if(Coat[i]==1):\n",
    "        a+=1\n",
    "        if(outlook[i]==1):\n",
    "            b+=1\n",
    "for j in range(7):           \n",
    "    if(Coat[j]==1):\n",
    "        c+=1\n",
    "        if(Temp[j]==1):\n",
    "            d+=1\n",
    "for k in range(7):\n",
    "    if(Coat[k]==1):\n",
    "        e+=1\n",
    "        if(Routine[k]==1):\n",
    "            f+=1"
   ]
  },
  {
   "cell_type": "code",
   "execution_count": 57,
   "metadata": {},
   "outputs": [
    {
     "name": "stdout",
     "output_type": "stream",
     "text": [
      "3 2 3 0 3 2\n",
      "0.0\n"
     ]
    }
   ],
   "source": [
    "print(a, b, c , d, e, f)\n",
    "Pyes = ((b/a)*(d/c)*(f/e)*(a/7))/((a/7)*(c/7)*(e/7))\n",
    "print(Pyes)"
   ]
  },
  {
   "cell_type": "code",
   "execution_count": 23,
   "metadata": {},
   "outputs": [],
   "source": [
    "an=0\n",
    "bn=0\n",
    "cn=0\n",
    "dn=0\n",
    "en=0\n",
    "fn=0\n",
    "\n",
    "for l in range(7):\n",
    "    if(Coat[l]==0):\n",
    "        an+=1\n",
    "        if(outlook[l]==1):\n",
    "            bn+=1\n",
    "for m in range(7):           \n",
    "    if(Coat[m]==0):\n",
    "        cn+=1\n",
    "        if(Temp[m]==1):\n",
    "            dn+=1\n",
    "for n in range(7):\n",
    "    if(Coat[n]==0):\n",
    "        en+=1\n",
    "        if(Routine[n]==1):\n",
    "            fn+=1"
   ]
  },
  {
   "cell_type": "code",
   "execution_count": 65,
   "metadata": {},
   "outputs": [],
   "source": [
    "Pno = ((bn/an)*(dn/cn)*(fn/en)*(an/7))/((a/7)*(c/7)*(e/7))"
   ]
  },
  {
   "cell_type": "code",
   "execution_count": 66,
   "metadata": {},
   "outputs": [
    {
     "name": "stdout",
     "output_type": "stream",
     "text": [
      "4 1 4 3 4 1\n",
      "0.3402777777777778\n"
     ]
    }
   ],
   "source": [
    "print(an, bn, cn, dn, en, fn)\n",
    "print(Pno)"
   ]
  },
  {
   "cell_type": "code",
   "execution_count": 68,
   "metadata": {},
   "outputs": [
    {
     "name": "stdout",
     "output_type": "stream",
     "text": [
      "No\n"
     ]
    }
   ],
   "source": [
    "if(Pyes>Pno):\n",
    "    print(\"Yes\")\n",
    "elif(Pyes<Pno):\n",
    "    print(\"No\")\n",
    "else:\n",
    "    print(\"Impossible\")"
   ]
  },
  {
   "cell_type": "code",
   "execution_count": null,
   "metadata": {
    "collapsed": true
   },
   "outputs": [],
   "source": []
  }
 ],
 "metadata": {
  "kernelspec": {
   "display_name": "Python 3",
   "language": "python",
   "name": "python3"
  },
  "language_info": {
   "codemirror_mode": {
    "name": "ipython",
    "version": 3
   },
   "file_extension": ".py",
   "mimetype": "text/x-python",
   "name": "python",
   "nbconvert_exporter": "python",
   "pygments_lexer": "ipython3",
   "version": "3.6.3"
  }
 },
 "nbformat": 4,
 "nbformat_minor": 2
}
